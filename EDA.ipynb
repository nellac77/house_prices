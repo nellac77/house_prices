{
 "cells": [
  {
   "cell_type": "markdown",
   "metadata": {},
   "source": [
    "# Housing Prices\n",
    "\n",
    "## Exploratory Data Analysis\n",
    "\n",
    "Here will attempt to learn a little more about the data by tackling the EDA in the following steps:\n",
    "\n",
    "+ Data Understanding: Get to know the problem by getting to know the data\n",
    "+ Response Variable: A look at the dependent variable, 'SalesPrice', by itself\n",
    "+ Predictors: A look at how the response variable and the predictors relate\n",
    "+ Data Cleaning: Clean up the data following some basic techniques\n",
    "+ Basic Statistics: Run some tests and see what we discover"
   ]
  },
  {
   "cell_type": "markdown",
   "metadata": {},
   "source": [
    "## Data Understanding\n"
   ]
  }
 ],
 "metadata": {
  "kernelspec": {
   "display_name": "Python 3",
   "language": "python",
   "name": "python3"
  },
  "language_info": {
   "codemirror_mode": {
    "name": "ipython",
    "version": 3
   },
   "file_extension": ".py",
   "mimetype": "text/x-python",
   "name": "python",
   "nbconvert_exporter": "python",
   "pygments_lexer": "ipython3",
   "version": "3.6.5"
  }
 },
 "nbformat": 4,
 "nbformat_minor": 2
}
